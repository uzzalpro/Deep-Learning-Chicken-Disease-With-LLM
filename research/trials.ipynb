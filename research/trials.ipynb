{
 "cells": [
  {
   "cell_type": "code",
   "execution_count": 1,
   "id": "aa26a272",
   "metadata": {},
   "outputs": [
    {
     "name": "stdout",
     "output_type": "stream",
     "text": [
      "ok\n"
     ]
    }
   ],
   "source": [
    "print(\"ok\")"
   ]
  },
  {
   "cell_type": "code",
   "execution_count": 2,
   "id": "bffc5381",
   "metadata": {},
   "outputs": [
    {
     "name": "stdout",
     "output_type": "stream",
     "text": [
      "{'name': 'Uzzal', 'age': 35, 'city': 'Dhaka', 'country': 'Bangladesh'}\n",
      "<class 'dict'>\n"
     ]
    }
   ],
   "source": [
    "import yaml\n",
    "\n",
    "yaml_file_path = \"test.yaml\"\n",
    "\n",
    "with open(yaml_file_path, \"r\") as f:\n",
    "    data = yaml.safe_load(f)\n",
    "\n",
    "\n",
    "print(data)\n",
    "print(type(data))"
   ]
  },
  {
   "cell_type": "code",
   "execution_count": 3,
   "id": "18908eaf",
   "metadata": {},
   "outputs": [
    {
     "data": {
      "text/plain": [
       "'Uzzal'"
      ]
     },
     "execution_count": 3,
     "metadata": {},
     "output_type": "execute_result"
    }
   ],
   "source": [
    "data['name']"
   ]
  },
  {
   "cell_type": "markdown",
   "id": "cdbdb94f",
   "metadata": {},
   "source": [
    "# ConfigBox"
   ]
  },
  {
   "cell_type": "code",
   "execution_count": 4,
   "id": "6cb753d5",
   "metadata": {},
   "outputs": [],
   "source": [
    "from box import ConfigBox\n",
    "d = ConfigBox(data)"
   ]
  },
  {
   "cell_type": "code",
   "execution_count": 5,
   "id": "f54c0cd4",
   "metadata": {},
   "outputs": [
    {
     "data": {
      "text/plain": [
       "ConfigBox({'name': 'Uzzal', 'age': 35, 'city': 'Dhaka', 'country': 'Bangladesh'})"
      ]
     },
     "execution_count": 5,
     "metadata": {},
     "output_type": "execute_result"
    }
   ],
   "source": [
    "d"
   ]
  },
  {
   "cell_type": "code",
   "execution_count": 6,
   "id": "10fe3958",
   "metadata": {},
   "outputs": [
    {
     "data": {
      "text/plain": [
       "'Uzzal'"
      ]
     },
     "execution_count": 6,
     "metadata": {},
     "output_type": "execute_result"
    }
   ],
   "source": [
    "d.name"
   ]
  },
  {
   "cell_type": "markdown",
   "id": "0c322a94",
   "metadata": {},
   "source": [
    "# ensure_annotations"
   ]
  },
  {
   "cell_type": "code",
   "execution_count": 14,
   "id": "2ee46c10",
   "metadata": {},
   "outputs": [],
   "source": [
    "def get_product(x:int, y:int):\n",
    "    return x*y"
   ]
  },
  {
   "cell_type": "code",
   "execution_count": 15,
   "id": "54ba4a3c",
   "metadata": {},
   "outputs": [
    {
     "data": {
      "text/plain": [
       "8"
      ]
     },
     "execution_count": 15,
     "metadata": {},
     "output_type": "execute_result"
    }
   ],
   "source": [
    "get_product(x=2,y=4)"
   ]
  },
  {
   "cell_type": "code",
   "execution_count": 16,
   "id": "0dc57c6b",
   "metadata": {},
   "outputs": [
    {
     "data": {
      "text/plain": [
       "'44'"
      ]
     },
     "execution_count": 16,
     "metadata": {},
     "output_type": "execute_result"
    }
   ],
   "source": [
    "get_product(x=2,y='4')"
   ]
  },
  {
   "cell_type": "code",
   "execution_count": 17,
   "id": "c1f524d1",
   "metadata": {},
   "outputs": [],
   "source": [
    "from ensure import ensure_annotations"
   ]
  },
  {
   "cell_type": "code",
   "execution_count": 18,
   "id": "3a3bc5dc",
   "metadata": {},
   "outputs": [],
   "source": [
    "@ensure_annotations\n",
    "def get_product(x:int, y:int):\n",
    "    return x*y"
   ]
  },
  {
   "cell_type": "code",
   "execution_count": 19,
   "id": "60e0c509",
   "metadata": {},
   "outputs": [
    {
     "data": {
      "text/plain": [
       "8"
      ]
     },
     "execution_count": 19,
     "metadata": {},
     "output_type": "execute_result"
    }
   ],
   "source": [
    "get_product(x=2,y=4)"
   ]
  },
  {
   "cell_type": "code",
   "execution_count": 20,
   "id": "7e992762",
   "metadata": {},
   "outputs": [],
   "source": [
    "# get_product(x=2,y='4')"
   ]
  },
  {
   "cell_type": "markdown",
   "id": "6371de39",
   "metadata": {},
   "source": [
    "# Blob Store (upload data)"
   ]
  },
  {
   "cell_type": "code",
   "execution_count": null,
   "id": "c5424f2a",
   "metadata": {},
   "outputs": [],
   "source": [
    "# from azure.storage.blob import BlobServiceClient\n",
    "# from dotenv import load_dotenv\n",
    "# import os\n",
    "\n",
    "# load_dotenv()\n",
    "\n",
    "# connection_string = os.getenv(\"STORAGE_ACCOUNT_CONNECTION\")\n",
    "# blob_service_client = BlobServiceClient.from_connection_string(connection_string)\n",
    "\n",
    "# container_name = os.getenv(\"STORAGE_ACCOUNT_CONTAINER\")\n",
    "# blob_name = \"data.zip\"\n",
    "# file_path = \"data.zip\"\n",
    "\n",
    "# # Create container if not exists\n",
    "# container_client = blob_service_client.get_container_client(container_name)\n",
    "# try:\n",
    "#     container_client.create_container()\n",
    "# except Exception:\n",
    "#     pass\n",
    "\n",
    "# # Upload file\n",
    "# with open(file_path, \"rb\") as data:\n",
    "#     container_client.upload_blob(name=blob_name, data=data, overwrite=True)\n"
   ]
  },
  {
   "cell_type": "code",
   "execution_count": null,
   "id": "9b2fb6a9",
   "metadata": {},
   "outputs": [
    {
     "name": "stdout",
     "output_type": "stream",
     "text": [
      "Downloaded ...\n",
      "Downloaded 'data.zip' to 'chicken-data-2025.zip'\n"
     ]
    }
   ],
   "source": [
    "# download_path = \"chicken-data-2025.zip\"\n",
    "\n",
    "# # Get blob client\n",
    "# blob_client = blob_service_client.get_blob_client(container=container_name, blob=blob_name)\n",
    "\n",
    "# # Download blob\n",
    "# with open(download_path, \"wb\") as file:\n",
    "#     download_stream = blob_client.download_blob()\n",
    "#     file.write(download_stream.readall())\n",
    "#     print('Downloaded ...')\n",
    "\n",
    "# print(f\"Downloaded '{blob_name}' to '{download_path}'\")"
   ]
  },
  {
   "cell_type": "markdown",
   "id": "13463499",
   "metadata": {},
   "source": [
    "### Blob Store complete method"
   ]
  },
  {
   "cell_type": "code",
   "execution_count": 24,
   "id": "6c2f6788",
   "metadata": {},
   "outputs": [
    {
     "name": "stdout",
     "output_type": "stream",
     "text": [
      "Downloading 'data.zip' from container 'chicken-disease' to 'chicken-data-2025.zip'...\n",
      "Download complete.\n"
     ]
    }
   ],
   "source": [
    "import os\n",
    "from dotenv import load_dotenv\n",
    "from azure.storage.blob import BlobServiceClient\n",
    "from azure.core.exceptions import ResourceNotFoundError\n",
    "\n",
    "# Load environment variables from .env\n",
    "load_dotenv()\n",
    "\n",
    "def download_from_blob(container_name, blob_name, download_path, connection_string):\n",
    "    try:\n",
    "        print(f\"Downloading '{blob_name}' from container '{container_name}' to '{download_path}'...\")\n",
    "\n",
    "        # Initialize the BlobServiceClient\n",
    "        blob_service_client = BlobServiceClient.from_connection_string(connection_string)\n",
    "        blob_client = blob_service_client.get_blob_client(container=container_name, blob=blob_name)\n",
    "\n",
    "        # Download the blob\n",
    "        with open(download_path, \"wb\") as f:\n",
    "            download_stream = blob_client.download_blob()\n",
    "            f.write(download_stream.readall())\n",
    "\n",
    "        print(\"Download complete.\")\n",
    "\n",
    "    except ResourceNotFoundError:\n",
    "        print(f\"Error: Blob '{blob_name}' not found in container '{container_name}'.\")\n",
    "    except Exception as e:\n",
    "        print(f\"Unexpected error: {e}\")\n",
    "\n",
    "# Example usage (for Azurite or Azure)\n",
    "container_name = \"chicken-disease\"  # must be lowercase\n",
    "blob_name = \"data.zip\"\n",
    "download_path = \"chicken-data-2025.zip\"\n",
    "\n",
    "# For Azurite (local emulator)\n",
    "connection_string = os.getenv(\"STORAGE_ACCOUNT_CONNECTION\")\n",
    "\n",
    "download_from_blob(container_name, blob_name, download_path, connection_string)\n"
   ]
  },
  {
   "cell_type": "code",
   "execution_count": null,
   "id": "64fabf74",
   "metadata": {},
   "outputs": [],
   "source": [
    "# import boto3\n",
    "# import os\n",
    "# from dotenv import load_dotenv\n",
    "\n",
    "\n",
    "# from botocore.exceptions import ClientError\n",
    "\n",
    "# # Load environment variables from .env\n",
    "# load_dotenv()\n",
    "\n",
    "# def download_from_s3(bucket_name, object_key, download_path, \n",
    "#                      aws_access_key_id, aws_secret_access_key, region_name=\"us-east-1\"):\n",
    "#     # Initialize the S3 client with explicit credentials\n",
    "#     s3 = boto3.client(\n",
    "#         \"s3\",\n",
    "#         region_name=region_name,\n",
    "#         aws_access_key_id=aws_access_key_id,\n",
    "#         aws_secret_access_key=aws_secret_access_key\n",
    "#     )\n",
    "\n",
    "#     try:\n",
    "#         print(f\"Downloading {object_key} from bucket {bucket_name} to {download_path}...\")\n",
    "#         # Must include RequestPayer for Requester Pays buckets\n",
    "#         response = s3.get_object(\n",
    "#             Bucket=bucket_name,\n",
    "#             Key=object_key,\n",
    "#             RequestPayer=\"requester\"\n",
    "#         )\n",
    "#         with open(download_path, \"wb\") as f:\n",
    "#             for chunk in response[\"Body\"].iter_chunks(chunk_size=8*1024*1024):\n",
    "#                 f.write(chunk)\n",
    "\n",
    "#         print(\"Download complete.\")\n",
    "\n",
    "#     except ClientError as e:\n",
    "#         code = e.response[\"Error\"][\"Code\"]\n",
    "#         print(f\"Error ({code}): {e.response['Error']['Message']}\")\n",
    "#         if code in [\"403\", \"AccessDenied\"]:\n",
    "#             print(\"→ Check IAM permissions and ensure RequestPayer='requester' is allowed in the bucket policy.\")\n",
    "#         elif code == \"PermanentRedirect\":\n",
    "#             print(\"→ Wrong region: use get_bucket_location() to discover the correct region.\")\n",
    "\n",
    "# # Example usage (⚠️ replace with your real keys — don’t commit them)\n",
    "# bucket_name = \"chicken-data-2025\"\n",
    "# object_key = \"data.zip\"\n",
    "# download_path = \"data.zip\"\n",
    "\n",
    "# download_from_s3(\n",
    "#     bucket_name,\n",
    "#     object_key,\n",
    "#     download_path,\n",
    "#     aws_access_key_id=os.getenv(\"AWS_ACCESS_KEY_ID\"),\n",
    "#     aws_secret_access_key=os.getenv(\"AWS_SECRET_ACCESS_KEY\"),\n",
    "#     region_name=\"us-east-1\"\n",
    "# )"
   ]
  }
 ],
 "metadata": {
  "kernelspec": {
   "display_name": "cnncls",
   "language": "python",
   "name": "python3"
  },
  "language_info": {
   "codemirror_mode": {
    "name": "ipython",
    "version": 3
   },
   "file_extension": ".py",
   "mimetype": "text/x-python",
   "name": "python",
   "nbconvert_exporter": "python",
   "pygments_lexer": "ipython3",
   "version": "3.8.20"
  }
 },
 "nbformat": 4,
 "nbformat_minor": 5
}
