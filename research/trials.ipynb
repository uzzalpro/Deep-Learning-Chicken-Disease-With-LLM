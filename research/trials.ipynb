{
 "cells": [
  {
   "cell_type": "code",
   "execution_count": 1,
   "id": "aa26a272",
   "metadata": {},
   "outputs": [
    {
     "name": "stdout",
     "output_type": "stream",
     "text": [
      "ok\n"
     ]
    }
   ],
   "source": [
    "print(\"ok\")"
   ]
  },
  {
   "cell_type": "code",
   "execution_count": 2,
   "id": "bffc5381",
   "metadata": {},
   "outputs": [
    {
     "name": "stdout",
     "output_type": "stream",
     "text": [
      "{'name': 'Uzzal', 'age': 35, 'city': 'Dhaka', 'country': 'Bangladesh'}\n",
      "<class 'dict'>\n"
     ]
    }
   ],
   "source": [
    "import yaml\n",
    "\n",
    "yaml_file_path = \"test.yaml\"\n",
    "\n",
    "with open(yaml_file_path, \"r\") as f:\n",
    "    data = yaml.safe_load(f)\n",
    "\n",
    "\n",
    "print(data)\n",
    "print(type(data))"
   ]
  },
  {
   "cell_type": "code",
   "execution_count": 3,
   "id": "18908eaf",
   "metadata": {},
   "outputs": [
    {
     "data": {
      "text/plain": [
       "'Uzzal'"
      ]
     },
     "execution_count": 3,
     "metadata": {},
     "output_type": "execute_result"
    }
   ],
   "source": [
    "data['name']"
   ]
  },
  {
   "cell_type": "markdown",
   "id": "cdbdb94f",
   "metadata": {},
   "source": [
    "# ConfigBox"
   ]
  },
  {
   "cell_type": "code",
   "execution_count": 4,
   "id": "6cb753d5",
   "metadata": {},
   "outputs": [],
   "source": [
    "from box import ConfigBox\n",
    "d = ConfigBox(data)"
   ]
  },
  {
   "cell_type": "code",
   "execution_count": 5,
   "id": "f54c0cd4",
   "metadata": {},
   "outputs": [
    {
     "data": {
      "text/plain": [
       "ConfigBox({'name': 'Uzzal', 'age': 35, 'city': 'Dhaka', 'country': 'Bangladesh'})"
      ]
     },
     "execution_count": 5,
     "metadata": {},
     "output_type": "execute_result"
    }
   ],
   "source": [
    "d"
   ]
  },
  {
   "cell_type": "code",
   "execution_count": 6,
   "id": "10fe3958",
   "metadata": {},
   "outputs": [
    {
     "data": {
      "text/plain": [
       "'Uzzal'"
      ]
     },
     "execution_count": 6,
     "metadata": {},
     "output_type": "execute_result"
    }
   ],
   "source": [
    "d.name"
   ]
  },
  {
   "cell_type": "markdown",
   "id": "0c322a94",
   "metadata": {},
   "source": [
    "# ensure_annotations"
   ]
  },
  {
   "cell_type": "code",
   "execution_count": 14,
   "id": "2ee46c10",
   "metadata": {},
   "outputs": [],
   "source": [
    "def get_product(x:int, y:int):\n",
    "    return x*y"
   ]
  },
  {
   "cell_type": "code",
   "execution_count": 15,
   "id": "54ba4a3c",
   "metadata": {},
   "outputs": [
    {
     "data": {
      "text/plain": [
       "8"
      ]
     },
     "execution_count": 15,
     "metadata": {},
     "output_type": "execute_result"
    }
   ],
   "source": [
    "get_product(x=2,y=4)"
   ]
  },
  {
   "cell_type": "code",
   "execution_count": 16,
   "id": "0dc57c6b",
   "metadata": {},
   "outputs": [
    {
     "data": {
      "text/plain": [
       "'44'"
      ]
     },
     "execution_count": 16,
     "metadata": {},
     "output_type": "execute_result"
    }
   ],
   "source": [
    "get_product(x=2,y='4')"
   ]
  },
  {
   "cell_type": "code",
   "execution_count": 17,
   "id": "c1f524d1",
   "metadata": {},
   "outputs": [],
   "source": [
    "from ensure import ensure_annotations"
   ]
  },
  {
   "cell_type": "code",
   "execution_count": 18,
   "id": "3a3bc5dc",
   "metadata": {},
   "outputs": [],
   "source": [
    "@ensure_annotations\n",
    "def get_product(x:int, y:int):\n",
    "    return x*y"
   ]
  },
  {
   "cell_type": "code",
   "execution_count": 19,
   "id": "60e0c509",
   "metadata": {},
   "outputs": [
    {
     "data": {
      "text/plain": [
       "8"
      ]
     },
     "execution_count": 19,
     "metadata": {},
     "output_type": "execute_result"
    }
   ],
   "source": [
    "get_product(x=2,y=4)"
   ]
  },
  {
   "cell_type": "code",
   "execution_count": 20,
   "id": "7e992762",
   "metadata": {},
   "outputs": [],
   "source": [
    "# get_product(x=2,y='4')"
   ]
  },
  {
   "cell_type": "markdown",
   "id": "6371de39",
   "metadata": {},
   "source": [
    "# Blob Store"
   ]
  },
  {
   "cell_type": "code",
   "execution_count": 21,
   "id": "c5424f2a",
   "metadata": {},
   "outputs": [],
   "source": [
    "from azure.storage.blob import BlobServiceClient\n",
    "\n",
    "connection_string = \"DefaultEndpointsProtocol=http;AccountName=devstoreaccount1;AccountKey=Eby8vdM02xNOcqFlqUwJPLlmEtlCDXJ1OUzFT50uSRZ6IFsuFq2UVErCz4I6tq/K1SZFPTOtr/KBHBeksoGMGw==;BlobEndpoint=http://127.0.0.1:10000/devstoreaccount1;\"\n",
    "blob_service_client = BlobServiceClient.from_connection_string(connection_string)\n",
    "\n",
    "container_name = \"chicken-disease\"\n",
    "blob_name = \"data.zip\"\n",
    "file_path = \"data.zip\"\n",
    "\n",
    "# Create container if not exists\n",
    "container_client = blob_service_client.get_container_client(container_name)\n",
    "try:\n",
    "    container_client.create_container()\n",
    "except Exception:\n",
    "    pass\n",
    "\n",
    "# Upload file\n",
    "with open(file_path, \"rb\") as data:\n",
    "    container_client.upload_blob(name=blob_name, data=data, overwrite=True)\n"
   ]
  },
  {
   "cell_type": "code",
   "execution_count": 23,
   "id": "9b2fb6a9",
   "metadata": {},
   "outputs": [
    {
     "name": "stdout",
     "output_type": "stream",
     "text": [
      "Downloaded ...\n",
      "Downloaded 'data.zip' to 'chicken-data-2025.zip'\n"
     ]
    }
   ],
   "source": [
    "download_path = \"chicken-data-2025.zip\"\n",
    "\n",
    "# Get blob client\n",
    "blob_client = blob_service_client.get_blob_client(container=container_name, blob=blob_name)\n",
    "\n",
    "# Download blob\n",
    "with open(download_path, \"wb\") as file:\n",
    "    download_stream = blob_client.download_blob()\n",
    "    file.write(download_stream.readall())\n",
    "    print('Downloaded ...')\n",
    "\n",
    "print(f\"Downloaded '{blob_name}' to '{download_path}'\")"
   ]
  }
 ],
 "metadata": {
  "kernelspec": {
   "display_name": "cnncls",
   "language": "python",
   "name": "python3"
  },
  "language_info": {
   "codemirror_mode": {
    "name": "ipython",
    "version": 3
   },
   "file_extension": ".py",
   "mimetype": "text/x-python",
   "name": "python",
   "nbconvert_exporter": "python",
   "pygments_lexer": "ipython3",
   "version": "3.8.20"
  }
 },
 "nbformat": 4,
 "nbformat_minor": 5
}
