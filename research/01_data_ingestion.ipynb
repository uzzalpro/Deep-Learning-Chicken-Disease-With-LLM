{
 "cells": [
  {
   "cell_type": "code",
   "execution_count": 2,
   "id": "17862fd6",
   "metadata": {},
   "outputs": [],
   "source": [
    "import os"
   ]
  },
  {
   "cell_type": "code",
   "execution_count": 3,
   "id": "b98d4214",
   "metadata": {},
   "outputs": [
    {
     "data": {
      "text/plain": [
       "'/home/pro/Documents/ML-DL-Project/Deep-Learning-Chicken-Disease-With-LLM/research'"
      ]
     },
     "execution_count": 3,
     "metadata": {},
     "output_type": "execute_result"
    }
   ],
   "source": [
    "%pwd"
   ]
  },
  {
   "cell_type": "code",
   "execution_count": 4,
   "id": "86f96d3e",
   "metadata": {},
   "outputs": [],
   "source": [
    "os.chdir(\"../\")"
   ]
  },
  {
   "cell_type": "code",
   "execution_count": 5,
   "id": "80ce3ee3",
   "metadata": {},
   "outputs": [
    {
     "data": {
      "text/plain": [
       "'/home/pro/Documents/ML-DL-Project/Deep-Learning-Chicken-Disease-With-LLM'"
      ]
     },
     "execution_count": 5,
     "metadata": {},
     "output_type": "execute_result"
    }
   ],
   "source": [
    "%pwd"
   ]
  },
  {
   "cell_type": "code",
   "execution_count": 7,
   "id": "b5a34316",
   "metadata": {},
   "outputs": [],
   "source": [
    "from dataclasses import dataclass\n",
    "from pathlib import Path\n",
    "\n",
    "@dataclass(frozen=True)\n",
    "class DataIngestionConfig:\n",
    "    root_dir: Path\n",
    "    blob_name: str\n",
    "    local_data_file: Path\n",
    "    unzip_dir: Path"
   ]
  },
  {
   "cell_type": "code",
   "execution_count": 8,
   "id": "5e029747",
   "metadata": {},
   "outputs": [],
   "source": [
    "from cnnClassifier.constants import *\n",
    "from cnnClassifier.utils.common import read_yaml, create_directories"
   ]
  },
  {
   "cell_type": "code",
   "execution_count": 9,
   "id": "b1dda6d6",
   "metadata": {},
   "outputs": [],
   "source": [
    "class ConfigurationManager:\n",
    "    def __init__(\n",
    "        self,\n",
    "        config_filepath = CONFIG_FILE_PATH,\n",
    "        params_filepath = PARAMS_FILE_PATH):\n",
    "\n",
    "        self.config = read_yaml(config_filepath)\n",
    "        self.params = read_yaml(params_filepath)\n",
    "\n",
    "        create_directories([self.config.artifacts_root])\n",
    "\n",
    "    \n",
    "    def get_data_ingestion_config(self) -> DataIngestionConfig:\n",
    "        config = self.config.data_ingestion\n",
    "\n",
    "        create_directories([config.root_dir])\n",
    "\n",
    "        data_ingestion_config = DataIngestionConfig(\n",
    "            root_dir=config.root_dir,\n",
    "            blob_name=config.blob_name,\n",
    "            local_data_file=config.local_data_file,\n",
    "            unzip_dir=config.unzip_dir \n",
    "        )\n",
    "\n",
    "        return data_ingestion_config"
   ]
  },
  {
   "cell_type": "code",
   "execution_count": 10,
   "id": "b0df404f",
   "metadata": {},
   "outputs": [
    {
     "data": {
      "text/plain": [
       "True"
      ]
     },
     "execution_count": 10,
     "metadata": {},
     "output_type": "execute_result"
    }
   ],
   "source": [
    "# import boto3\n",
    "import os\n",
    "from dotenv import load_dotenv\n",
    "# from botocore.exceptions import ClientError\n",
    "from azure.storage.blob import BlobServiceClient\n",
    "from azure.core.exceptions import ResourceNotFoundError\n",
    "import zipfile\n",
    "from cnnClassifier import logger\n",
    "from cnnClassifier.utils.common import get_size\n",
    "import tempfile\n",
    "\n",
    "load_dotenv()"
   ]
  },
  {
   "cell_type": "code",
   "execution_count": 14,
   "id": "913ad53a",
   "metadata": {},
   "outputs": [],
   "source": [
    "\n",
    "class DataIngestion:\n",
    "    def __init__(self, config: DataIngestionConfig):\n",
    "        self.config = config\n",
    "\n",
    "\n",
    "\n",
    "    def download_from_blob(self, container_name, blob_name, download_path, connection_string):\n",
    "        try:\n",
    "            print(f\"Downloading '{blob_name}' from container '{container_name}' to '{download_path}'...\")\n",
    "\n",
    "            # Initialize the BlobServiceClient\n",
    "            blob_service_client = BlobServiceClient.from_connection_string(connection_string)\n",
    "            blob_client = blob_service_client.get_blob_client(container=container_name, blob=blob_name)\n",
    "\n",
    "            # Download the blob\n",
    "            with open(download_path, \"wb\") as f:\n",
    "                download_stream = blob_client.download_blob()\n",
    "                f.write(download_stream.readall())\n",
    "\n",
    "            print(\"Download complete.\")\n",
    "\n",
    "        except ResourceNotFoundError:\n",
    "            print(f\"Error: Blob '{blob_name}' not found in container '{container_name}'.\")\n",
    "        except Exception as e:\n",
    "            print(f\"Unexpected error: {e}\")\n",
    "            \n",
    "\n",
    "    def extract_zip_file(self):\n",
    "        \"\"\"\n",
    "        Extracts the zip file into the data directory specified by self.config.unzip_dir.\n",
    "        \"\"\"\n",
    "        unzip_path = self.config.unzip_dir\n",
    "        os.makedirs(unzip_path, exist_ok=True)\n",
    "        with zipfile.ZipFile(self.config.local_data_file, \"r\") as zip_ref:\n",
    "            zip_ref.extractall(unzip_path)"
   ]
  },
  {
   "cell_type": "code",
   "execution_count": 17,
   "id": "d4e23d6e",
   "metadata": {},
   "outputs": [
    {
     "name": "stdout",
     "output_type": "stream",
     "text": [
      "[2025-10-26 15:30:53,539: INFO: common: yaml file: config/config.yaml loaded successfully]\n",
      "[2025-10-26 15:30:53,546: INFO: common: yaml file: params.yaml loaded successfully]\n",
      "[2025-10-26 15:30:53,551: INFO: common: created directory at: artifacts]\n",
      "[2025-10-26 15:30:53,555: INFO: common: created directory at: artifacts/data_ingestion]\n",
      "Downloading 'data.zip' from container 'chicken-disease' to 'artifacts/data_ingestion/data.zip'...\n",
      "[2025-10-26 15:30:53,566: INFO: _universal: Request URL: 'http://127.0.0.1:10000/devstoreaccount1/chicken-disease/data.zip'\n",
      "Request method: 'GET'\n",
      "Request headers:\n",
      "    'x-ms-range': 'REDACTED'\n",
      "    'x-ms-version': 'REDACTED'\n",
      "    'Accept': 'application/xml'\n",
      "    'User-Agent': 'azsdk-python-storage-blob/12.26.0 Python/3.8.20 (Linux-6.14.0-33-generic-x86_64-with-glibc2.17)'\n",
      "    'x-ms-date': 'REDACTED'\n",
      "    'x-ms-client-request-id': '77cdd452-b24e-11f0-8938-2016b929d5dd'\n",
      "    'Authorization': 'REDACTED'\n",
      "No body was attached to the request]\n",
      "[2025-10-26 15:30:53,608: INFO: _universal: Response status: 206\n",
      "Response headers:\n",
      "    'Server': 'Azurite-Blob/3.35.0'\n",
      "    'last-modified': 'Sun, 26 Oct 2025 09:30:31 GMT'\n",
      "    'x-ms-creation-time': 'REDACTED'\n",
      "    'content-length': '11616915'\n",
      "    'content-type': 'application/octet-stream'\n",
      "    'content-range': 'REDACTED'\n",
      "    'etag': '\"0x24189DBC22DED80\"'\n",
      "    'x-ms-blob-type': 'REDACTED'\n",
      "    'x-ms-lease-state': 'REDACTED'\n",
      "    'x-ms-lease-status': 'REDACTED'\n",
      "    'x-ms-client-request-id': '77cdd452-b24e-11f0-8938-2016b929d5dd'\n",
      "    'x-ms-request-id': '79176d65-f924-4d8f-8d66-ae45926dcaa8'\n",
      "    'x-ms-version': 'REDACTED'\n",
      "    'accept-ranges': 'REDACTED'\n",
      "    'date': 'Sun, 26 Oct 2025 09:30:53 GMT'\n",
      "    'x-ms-server-encrypted': 'REDACTED'\n",
      "    'x-ms-blob-content-md5': 'REDACTED'\n",
      "    'Connection': 'keep-alive'\n",
      "    'Keep-Alive': 'REDACTED']\n"
     ]
    },
    {
     "name": "stdout",
     "output_type": "stream",
     "text": [
      "Download complete.\n"
     ]
    }
   ],
   "source": [
    "try:\n",
    "    config = ConfigurationManager()\n",
    "    data_ingestion_config = config.get_data_ingestion_config()\n",
    "    data_ingestion = DataIngestion(config=data_ingestion_config)\n",
    "\n",
    "    container_name = os.getenv(\"STORAGE_ACCOUNT_CONTAINER\")\n",
    "    blob_name = \"data.zip\"\n",
    "    object_key = \"data.zip\"\n",
    "\n",
    "    download_path = data_ingestion_config.local_data_file  # already set in config\n",
    "    connection_string = os.getenv(\"STORAGE_ACCOUNT_CONNECTION\")\n",
    "\n",
    "    data_ingestion.download_from_blob(container_name, blob_name, download_path, connection_string)\n",
    "\n",
    "    data_ingestion.extract_zip_file()\n",
    "\n",
    "except Exception as e:\n",
    "    raise e"
   ]
  }
 ],
 "metadata": {
  "kernelspec": {
   "display_name": "cnncls",
   "language": "python",
   "name": "python3"
  },
  "language_info": {
   "codemirror_mode": {
    "name": "ipython",
    "version": 3
   },
   "file_extension": ".py",
   "mimetype": "text/x-python",
   "name": "python",
   "nbconvert_exporter": "python",
   "pygments_lexer": "ipython3",
   "version": "3.8.20"
  }
 },
 "nbformat": 4,
 "nbformat_minor": 5
}
